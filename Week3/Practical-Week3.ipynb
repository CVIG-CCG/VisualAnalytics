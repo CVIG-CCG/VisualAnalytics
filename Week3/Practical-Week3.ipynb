{
 "cells": [
  {
   "cell_type": "markdown",
   "metadata": {},
   "source": [
    "# Streamlit"
   ]
  },
  {
   "cell_type": "markdown",
   "metadata": {},
   "source": [
    "https://www.streamlit.io/"
   ]
  },
  {
   "cell_type": "markdown",
   "metadata": {},
   "source": [
    "https://docs.streamlit.io/en/latest/index.html"
   ]
  },
  {
   "cell_type": "markdown",
   "metadata": {},
   "source": [
    "Streamlit is an open-source Python library that makes it easy to build beautiful custom web-apps for machine learning and data science."
   ]
  },
  {
   "cell_type": "markdown",
   "metadata": {},
   "source": [
    "#### Streamlit Principles:\n",
    "1- Embrace Python Scripting\n",
    "2- Treat Widgets as Variables\n",
    "3- Reuse Data and Computation\n",
    "\n",
    "Streamlit creates web server on your computer\n",
    "You can build non-trivial apps very quickly\n",
    "\n",
    "st.cache\n",
    "Not rebuilding the page everytime, only sending the changes\n",
    "\n",
    "\n",
    "#### Streamlit Components\n",
    "\n",
    "1- Static Component: Only send data to the browser (st.markdown) , stateless \n",
    "\n",
    "2- Bidirectional Components: Send data back from the browser, have internal state\n",
    "\n"
   ]
  },
  {
   "cell_type": "markdown",
   "metadata": {},
   "source": [
    "### Example - 1 - Streamlit Basics\n",
    "This example explores the basics of streamlit framework. It gives an idea on how to implement each of the fundamental components and their interactions on the app."
   ]
  },
  {
   "cell_type": "markdown",
   "metadata": {},
   "source": [
    "### Example - 2 - Caching\n",
    "Streamlit provides a caching mechanism to enhance our apps when loading data or performing expensive computations."
   ]
  },
  {
   "cell_type": "markdown",
   "metadata": {},
   "source": [
    "### Example - 3 - Restaurant Tips Analysis\n",
    "This example presents a restaurant tips analysis app. It shows how streamlit can be used to perform data analysis and visualization as well as a machine learning task, regression model in this example."
   ]
  },
  {
   "cell_type": "markdown",
   "metadata": {},
   "source": [
    "### Example - 4 - Simple Visual Analytics - Iris Classification\n",
    "An example of a classification problem is presented in this example. The app allows the user to visually explore the Iris data and create basic analysis plots.\n",
    "\n",
    "The app also allows the user to fit the data to different classifiers (Support Vector Machine and Decision Tree) and present the prediction accuracy and confusion matrix results based on the selected classifier."
   ]
  },
  {
   "cell_type": "markdown",
   "metadata": {},
   "source": [
    "### Example - 5 - Principal Components Analysis\n",
    "An example that illustrates the implementation of the Principal Component Analysis (PCA) using streamlit framework on Iris dataset."
   ]
  },
  {
   "cell_type": "markdown",
   "metadata": {},
   "source": [
    "### Example - 6 - Visual Analytics - Params Tuning\n",
    "This example presents an example of a visual analytics app that allows the user to select a classifier and tune its parameters using streamlit."
   ]
  },
  {
   "cell_type": "markdown",
   "metadata": {},
   "source": [
    "### Generating Custom Photo-realistic faces\n",
    "\n",
    "Streamlit app\n",
    "https://towardsdatascience.com/build-an-app-to-synthesize-photorealistic-faces-using-tensorflow-and-streamlit-dd2545828021\n",
    "\n",
    "GANs\n",
    "https://blog.insightdatascience.com/generating-custom-photo-realistic-faces-using-ai-d170b1b59255\n"
   ]
  }
 ],
 "metadata": {
  "kernelspec": {
   "display_name": "Python 3",
   "language": "python",
   "name": "python3"
  },
  "language_info": {
   "codemirror_mode": {
    "name": "ipython",
    "version": 3
   },
   "file_extension": ".py",
   "mimetype": "text/x-python",
   "name": "python",
   "nbconvert_exporter": "python",
   "pygments_lexer": "ipython3",
   "version": "3.6.5"
  }
 },
 "nbformat": 4,
 "nbformat_minor": 4
}
